{
  "nbformat": 4,
  "nbformat_minor": 0,
  "metadata": {
    "colab": {
      "name": "ComandosBasicos.ipynb",
      "provenance": [],
      "collapsed_sections": [],
      "include_colab_link": true
    },
    "kernelspec": {
      "name": "python3",
      "display_name": "Python 3"
    }
  },
  "cells": [
    {
      "cell_type": "markdown",
      "metadata": {
        "id": "view-in-github",
        "colab_type": "text"
      },
      "source": [
        "<a href=\"https://colab.research.google.com/github/jminango20/ComandosBasicosPython/blob/master/ComandosBasicos.ipynb\" target=\"_parent\"><img src=\"https://colab.research.google.com/assets/colab-badge.svg\" alt=\"Open In Colab\"/></a>"
      ]
    },
    {
      "cell_type": "markdown",
      "metadata": {
        "id": "7_nUg_YeqZyA",
        "colab_type": "text"
      },
      "source": [
        "## PRIMEROS COMANDOS"
      ]
    },
    {
      "cell_type": "markdown",
      "metadata": {
        "id": "JWA-jZwLlFzN",
        "colab_type": "text"
      },
      "source": [
        "**Tipo de dados STRING**"
      ]
    },
    {
      "cell_type": "code",
      "metadata": {
        "id": "3AJ3mFeaj5R4",
        "colab_type": "code",
        "colab": {
          "base_uri": "https://localhost:8080/",
          "height": 34
        },
        "outputId": "bc26421e-3fcf-48db-a5a4-9a3c76e0c42a"
      },
      "source": [
        "nome = \"Summer School\"\n",
        "type(nome)"
      ],
      "execution_count": 1,
      "outputs": [
        {
          "output_type": "execute_result",
          "data": {
            "text/plain": [
              "str"
            ]
          },
          "metadata": {
            "tags": []
          },
          "execution_count": 1
        }
      ]
    },
    {
      "cell_type": "markdown",
      "metadata": {
        "id": "PCk5ssl-lOB2",
        "colab_type": "text"
      },
      "source": [
        "**Tipo de dados INTEGER**"
      ]
    },
    {
      "cell_type": "code",
      "metadata": {
        "id": "vfh3W1HYktzh",
        "colab_type": "code",
        "colab": {
          "base_uri": "https://localhost:8080/",
          "height": 34
        },
        "outputId": "01df83e8-e9fd-4868-bd37-bcdc39eed443"
      },
      "source": [
        "nome = 1\n",
        "type(nome)"
      ],
      "execution_count": 2,
      "outputs": [
        {
          "output_type": "execute_result",
          "data": {
            "text/plain": [
              "int"
            ]
          },
          "metadata": {
            "tags": []
          },
          "execution_count": 2
        }
      ]
    },
    {
      "cell_type": "markdown",
      "metadata": {
        "id": "s4a0pCGglTJt",
        "colab_type": "text"
      },
      "source": [
        "**Tipo de dados FLOAT**"
      ]
    },
    {
      "cell_type": "code",
      "metadata": {
        "id": "GEcO-kcMkxIr",
        "colab_type": "code",
        "colab": {
          "base_uri": "https://localhost:8080/",
          "height": 34
        },
        "outputId": "d862735c-97c4-4b68-87bd-a99892fe5e5f"
      },
      "source": [
        "nome = 1.10\n",
        "type(nome)"
      ],
      "execution_count": 3,
      "outputs": [
        {
          "output_type": "execute_result",
          "data": {
            "text/plain": [
              "float"
            ]
          },
          "metadata": {
            "tags": []
          },
          "execution_count": 3
        }
      ]
    },
    {
      "cell_type": "markdown",
      "metadata": {
        "id": "rSU1vCYMlVxt",
        "colab_type": "text"
      },
      "source": [
        "**Tipo de dados COMPLEX**"
      ]
    },
    {
      "cell_type": "code",
      "metadata": {
        "id": "JCPnxlzLk2Zb",
        "colab_type": "code",
        "colab": {
          "base_uri": "https://localhost:8080/",
          "height": 34
        },
        "outputId": "be75672e-ec31-485f-c1ab-c0507f9fc9a3"
      },
      "source": [
        "nome = 1.10j\n",
        "type(nome)"
      ],
      "execution_count": 4,
      "outputs": [
        {
          "output_type": "execute_result",
          "data": {
            "text/plain": [
              "complex"
            ]
          },
          "metadata": {
            "tags": []
          },
          "execution_count": 4
        }
      ]
    },
    {
      "cell_type": "markdown",
      "metadata": {
        "id": "cYfQp4PPlZMN",
        "colab_type": "text"
      },
      "source": [
        "**Tipo de dados BOOL**"
      ]
    },
    {
      "cell_type": "code",
      "metadata": {
        "id": "JFzHOZ7ik_ZW",
        "colab_type": "code",
        "colab": {
          "base_uri": "https://localhost:8080/",
          "height": 34
        },
        "outputId": "7b9e36e5-71b7-41e3-d10b-47cc105c16dd"
      },
      "source": [
        "nome = True\n",
        "type(nome)"
      ],
      "execution_count": 5,
      "outputs": [
        {
          "output_type": "execute_result",
          "data": {
            "text/plain": [
              "bool"
            ]
          },
          "metadata": {
            "tags": []
          },
          "execution_count": 5
        }
      ]
    },
    {
      "cell_type": "markdown",
      "metadata": {
        "id": "DwEGpZM_lymg",
        "colab_type": "text"
      },
      "source": [
        "**Precisão do tipo FLOAT**"
      ]
    },
    {
      "cell_type": "code",
      "metadata": {
        "id": "vhStN6VZl3HY",
        "colab_type": "code",
        "colab": {
          "base_uri": "https://localhost:8080/",
          "height": 122
        },
        "outputId": "bd1df27d-0bad-4377-a48a-344df93acf4d"
      },
      "source": [
        "print('Teste 1 - [05]:', 2 == 2.02222)\n",
        "print('Teste 2 - [08]:', 2 == 2.00002222)\n",
        "print('Teste 3 - [11]:', 2 == 2.00000002222)\n",
        "print('Teste 4 - [14]:', 2 == 2.00000000002222)\n",
        "print('Teste 5 - [17]:', 2 == 2.00000000000002222)\n",
        "print('Teste 6 - [20]:', 2 == 2.00000000000000002222)"
      ],
      "execution_count": 6,
      "outputs": [
        {
          "output_type": "stream",
          "text": [
            "Teste 1 - [05]: False\n",
            "Teste 2 - [08]: False\n",
            "Teste 3 - [11]: False\n",
            "Teste 4 - [14]: False\n",
            "Teste 5 - [17]: False\n",
            "Teste 6 - [20]: True\n"
          ],
          "name": "stdout"
        }
      ]
    },
    {
      "cell_type": "code",
      "metadata": {
        "id": "GG-IKbydm_hl",
        "colab_type": "code",
        "colab": {
          "base_uri": "https://localhost:8080/",
          "height": 34
        },
        "outputId": "3270e42b-4bc8-44e3-9c65-4633b1347a35"
      },
      "source": [
        "from decimal import Decimal\n",
        "\n",
        "Decimal(2.0) == Decimal(2.0000000000000002222)"
      ],
      "execution_count": 7,
      "outputs": [
        {
          "output_type": "execute_result",
          "data": {
            "text/plain": [
              "False"
            ]
          },
          "metadata": {
            "tags": []
          },
          "execution_count": 7
        }
      ]
    },
    {
      "cell_type": "markdown",
      "metadata": {
        "id": "AVtzDzouLRXf",
        "colab_type": "text"
      },
      "source": [
        "**List - exemplos **"
      ]
    },
    {
      "cell_type": "code",
      "metadata": {
        "id": "SnIhSyZfKlSb",
        "colab_type": "code",
        "colab": {
          "base_uri": "https://localhost:8080/",
          "height": 34
        },
        "outputId": "9e3c3e7d-1664-451c-fd03-7cdbdf8fb2bb"
      },
      "source": [
        "# Declarando uma lista\n",
        "lista = [1, 2]\n",
        "print(lista)"
      ],
      "execution_count": 8,
      "outputs": [
        {
          "output_type": "stream",
          "text": [
            "[1, 2]\n"
          ],
          "name": "stdout"
        }
      ]
    },
    {
      "cell_type": "code",
      "metadata": {
        "id": "fDH4gk_UKxxk",
        "colab_type": "code",
        "colab": {
          "base_uri": "https://localhost:8080/",
          "height": 34
        },
        "outputId": "7033326a-cdce-4270-9ea0-66adce8fc73c"
      },
      "source": [
        "# Incluindo no fim da lista\n",
        "lista.append(3)\n",
        "lista.append(4)\n",
        "print(lista)"
      ],
      "execution_count": 9,
      "outputs": [
        {
          "output_type": "stream",
          "text": [
            "[1, 2, 3, 4]\n"
          ],
          "name": "stdout"
        }
      ]
    },
    {
      "cell_type": "code",
      "metadata": {
        "id": "C1sEGdACK3VG",
        "colab_type": "code",
        "colab": {
          "base_uri": "https://localhost:8080/",
          "height": 52
        },
        "outputId": "fd97783e-5503-481a-c02c-f5dad6069da3"
      },
      "source": [
        "# Removendo itens da lista\n",
        "item_1 = lista.pop()\n",
        "item_2 = lista.pop()\n",
        "print(lista)\n",
        "print('Itens excluídos', item_1, item_2)"
      ],
      "execution_count": 10,
      "outputs": [
        {
          "output_type": "stream",
          "text": [
            "[1, 2]\n",
            "Itens excluídos 4 3\n"
          ],
          "name": "stdout"
        }
      ]
    },
    {
      "cell_type": "code",
      "metadata": {
        "id": "2NsZ_jW0LX0o",
        "colab_type": "code",
        "colab": {
          "base_uri": "https://localhost:8080/",
          "height": 70
        },
        "outputId": "86e8b64d-0664-4996-b947-bd3edbad69f5"
      },
      "source": [
        "# Removendo itens da lista\n",
        "lista = [1, 2, 3, 2, 2]\n",
        "print('Lista=',lista)\n",
        "\n",
        "lista.remove(2)\n",
        "print('Remove o valor 2=', lista)\n",
        "\n",
        "lista.remove(2)\n",
        "print('Remove outro o valor 2=',lista)"
      ],
      "execution_count": 11,
      "outputs": [
        {
          "output_type": "stream",
          "text": [
            "Lista= [1, 2, 3, 2, 2]\n",
            "Remove o valor 2= [1, 3, 2, 2]\n",
            "Remove outro o valor 2= [1, 3, 2]\n"
          ],
          "name": "stdout"
        }
      ]
    },
    {
      "cell_type": "code",
      "metadata": {
        "id": "ciiBxPEyL2dL",
        "colab_type": "code",
        "colab": {
          "base_uri": "https://localhost:8080/",
          "height": 52
        },
        "outputId": "6b8ec2c7-e9fe-4d2d-8fa6-1ceda04dc2da"
      },
      "source": [
        "# Recuperando e acessando um valor da lista\n",
        "posicao_item_valor_3 = lista.index(3)\n",
        "print('Posição do valor 3?', posicao_item_valor_3)\n",
        "\n",
        "print('Valor: ', lista[posicao_item_valor_3])"
      ],
      "execution_count": 12,
      "outputs": [
        {
          "output_type": "stream",
          "text": [
            "Posição do valor 3? 1\n",
            "Valor:  3\n"
          ],
          "name": "stdout"
        }
      ]
    },
    {
      "cell_type": "code",
      "metadata": {
        "id": "xcY1_B3fMd5O",
        "colab_type": "code",
        "colab": {
          "base_uri": "https://localhost:8080/",
          "height": 34
        },
        "outputId": "44507706-9bc0-4137-bcd4-58d914d0477d"
      },
      "source": [
        "# Ordenando a Lista\n",
        "lista.sort()\n",
        "print(lista)"
      ],
      "execution_count": 13,
      "outputs": [
        {
          "output_type": "stream",
          "text": [
            "[1, 2, 3]\n"
          ],
          "name": "stdout"
        }
      ]
    },
    {
      "cell_type": "code",
      "metadata": {
        "id": "ogIkNPGWMmsO",
        "colab_type": "code",
        "colab": {
          "base_uri": "https://localhost:8080/",
          "height": 52
        },
        "outputId": "165e7e39-1478-47f5-b1fb-a31afeeceeef"
      },
      "source": [
        "# Incluindo itens na lista\n",
        "# list.insert(posição, valor)\n",
        "\n",
        "lista.insert(0, 9)\n",
        "print(lista)\n",
        "\n",
        "lista.insert(-1, 8)\n",
        "print(lista)\n"
      ],
      "execution_count": 14,
      "outputs": [
        {
          "output_type": "stream",
          "text": [
            "[9, 1, 2, 3]\n",
            "[9, 1, 2, 8, 3]\n"
          ],
          "name": "stdout"
        }
      ]
    },
    {
      "cell_type": "code",
      "metadata": {
        "id": "v7q6IRNvORHm",
        "colab_type": "code",
        "colab": {
          "base_uri": "https://localhost:8080/",
          "height": 34
        },
        "outputId": "ea6b0f17-ed77-4194-93a4-89ddf61c1747"
      },
      "source": [
        "# Tamanho da Lista\n",
        "tamanho = len(lista)\n",
        "print('Tamanho da lista:', tamanho)"
      ],
      "execution_count": 15,
      "outputs": [
        {
          "output_type": "stream",
          "text": [
            "Tamanho da lista: 5\n"
          ],
          "name": "stdout"
        }
      ]
    },
    {
      "cell_type": "markdown",
      "metadata": {
        "id": "uYeGDfH3Np_0",
        "colab_type": "text"
      },
      "source": [
        "**Tuple - exemplos **"
      ]
    },
    {
      "cell_type": "code",
      "metadata": {
        "id": "g7RWT4zENpjk",
        "colab_type": "code",
        "colab": {
          "base_uri": "https://localhost:8080/",
          "height": 52
        },
        "outputId": "c88ceb97-9086-4bcc-d859-134e6b3b1ead"
      },
      "source": [
        "# Declarando uma tupla\n",
        "tupla = (1, 2, 3)\n",
        "print(tupla)\n",
        "\n",
        "# Recuperando itens da tupla\n",
        "item_valor_3 = tupla.index(3)\n",
        "print('Posição do item de valor 3: ', item_valor_3)"
      ],
      "execution_count": 16,
      "outputs": [
        {
          "output_type": "stream",
          "text": [
            "(1, 2, 3)\n",
            "Posição do item de valor 3:  2\n"
          ],
          "name": "stdout"
        }
      ]
    },
    {
      "cell_type": "code",
      "metadata": {
        "id": "sD9dBtfNOEsv",
        "colab_type": "code",
        "colab": {
          "base_uri": "https://localhost:8080/",
          "height": 34
        },
        "outputId": "fa03fe43-5931-4a71-d41a-621e966b8793"
      },
      "source": [
        "# Tamanho da Tupla\n",
        "tamanho = len(tupla)\n",
        "print('Tamanho da tupla:', tamanho)"
      ],
      "execution_count": 17,
      "outputs": [
        {
          "output_type": "stream",
          "text": [
            "Tamanho da tupla: 3\n"
          ],
          "name": "stdout"
        }
      ]
    },
    {
      "cell_type": "code",
      "metadata": {
        "id": "Gf9tcXuUOVbH",
        "colab_type": "code",
        "colab": {
          "base_uri": "https://localhost:8080/",
          "height": 34
        },
        "outputId": "7dfcb5c8-eba7-4eef-9d74-8082a750c7bf"
      },
      "source": [
        "# Obtendo o valor de uma tupla\n",
        "print(tupla[0])"
      ],
      "execution_count": 23,
      "outputs": [
        {
          "output_type": "stream",
          "text": [
            "1\n"
          ],
          "name": "stdout"
        }
      ]
    },
    {
      "cell_type": "code",
      "metadata": {
        "id": "-8EpX31TsR7d",
        "colab_type": "code",
        "colab": {
          "base_uri": "https://localhost:8080/",
          "height": 34
        },
        "outputId": "7200bb89-d17a-458e-d750-11b32936c1f8"
      },
      "source": [
        "# Mudando o valor de uma tupla\n",
        "aux = list(tupla)\n",
        "aux[0] = 10\n",
        "tupla = tuple(aux)\n",
        "print(tupla)"
      ],
      "execution_count": 25,
      "outputs": [
        {
          "output_type": "stream",
          "text": [
            "(10, 2, 3)\n"
          ],
          "name": "stdout"
        }
      ]
    },
    {
      "cell_type": "markdown",
      "metadata": {
        "id": "SjdXUBhMOhhh",
        "colab_type": "text"
      },
      "source": [
        "**Dictionary - exemplos **"
      ]
    },
    {
      "cell_type": "code",
      "metadata": {
        "id": "5IeXifAOOgrH",
        "colab_type": "code",
        "colab": {
          "base_uri": "https://localhost:8080/",
          "height": 34
        },
        "outputId": "57cabbbc-f993-4de0-a2ef-4a17870f9a81"
      },
      "source": [
        "# Declarando um dicionário\n",
        "dicionario = {'treinamento': 'Summer School', 'ano': 2020}\n",
        "print(dicionario)"
      ],
      "execution_count": 30,
      "outputs": [
        {
          "output_type": "stream",
          "text": [
            "{'treinamento': 'Summer School', 'ano': 2020}\n"
          ],
          "name": "stdout"
        }
      ]
    },
    {
      "cell_type": "code",
      "metadata": {
        "id": "a-PD5kM_O_0d",
        "colab_type": "code",
        "colab": {
          "base_uri": "https://localhost:8080/",
          "height": 34
        },
        "outputId": "d4646a13-69ea-4ccd-9cf6-1960f9b73de9"
      },
      "source": [
        "# Recuperando os itens do dicionario\n",
        "array_itens = dicionario.items()\n",
        "print(array_itens)"
      ],
      "execution_count": 31,
      "outputs": [
        {
          "output_type": "stream",
          "text": [
            "dict_items([('treinamento', 'Summer School'), ('ano', 2020)])\n"
          ],
          "name": "stdout"
        }
      ]
    },
    {
      "cell_type": "code",
      "metadata": {
        "id": "nqMCN2KcPUMU",
        "colab_type": "code",
        "colab": {
          "base_uri": "https://localhost:8080/",
          "height": 34
        },
        "outputId": "1a296f07-3fde-41f5-d115-71e62118b7dc"
      },
      "source": [
        "# Recuperando um valor pela chave\n",
        "treinamento = dicionario.get('treinamento')\n",
        "print(treinamento)"
      ],
      "execution_count": 32,
      "outputs": [
        {
          "output_type": "stream",
          "text": [
            "Summer School\n"
          ],
          "name": "stdout"
        }
      ]
    },
    {
      "cell_type": "code",
      "metadata": {
        "id": "JxGSEbz0PjZh",
        "colab_type": "code",
        "colab": {
          "base_uri": "https://localhost:8080/",
          "height": 34
        },
        "outputId": "18b0816f-7bbf-40ba-b9a0-5cc69fcf3388"
      },
      "source": [
        "# Recuperando as chaves do dicionário\n",
        "chaves = dicionario.keys()\n",
        "print(chaves)"
      ],
      "execution_count": 33,
      "outputs": [
        {
          "output_type": "stream",
          "text": [
            "dict_keys(['treinamento', 'ano'])\n"
          ],
          "name": "stdout"
        }
      ]
    },
    {
      "cell_type": "code",
      "metadata": {
        "id": "7hLbjN_5Ptn5",
        "colab_type": "code",
        "colab": {
          "base_uri": "https://localhost:8080/",
          "height": 34
        },
        "outputId": "ea990c4e-5cee-4180-ca53-de1fe3fed6fe"
      },
      "source": [
        "# Recuperando os valores do dicionário\n",
        "valores = dicionario.values()\n",
        "print(valores)"
      ],
      "execution_count": 34,
      "outputs": [
        {
          "output_type": "stream",
          "text": [
            "dict_values(['Summer School', 2020])\n"
          ],
          "name": "stdout"
        }
      ]
    },
    {
      "cell_type": "code",
      "metadata": {
        "id": "skN95ahEP5dK",
        "colab_type": "code",
        "colab": {
          "base_uri": "https://localhost:8080/",
          "height": 34
        },
        "outputId": "52ed4361-4494-4ba1-d625-f21adbdaa845"
      },
      "source": [
        "# Incluindo uma chave/valor no dicionário\n",
        "dicionario['pais'] = 'Brasil'\n",
        "print(dicionario)"
      ],
      "execution_count": 35,
      "outputs": [
        {
          "output_type": "stream",
          "text": [
            "{'treinamento': 'Summer School', 'ano': 2020, 'pais': 'Brasil'}\n"
          ],
          "name": "stdout"
        }
      ]
    },
    {
      "cell_type": "code",
      "metadata": {
        "id": "PjyYSjbFQGis",
        "colab_type": "code",
        "colab": {
          "base_uri": "https://localhost:8080/",
          "height": 34
        },
        "outputId": "7c7ccade-c44c-457b-94df-669a7261d84f"
      },
      "source": [
        "# Excluindo uma chave/valor no dicionário\n",
        "item_excluido = dicionario.pop('ano')\n",
        "print(dicionario)"
      ],
      "execution_count": 36,
      "outputs": [
        {
          "output_type": "stream",
          "text": [
            "{'treinamento': 'Summer School', 'pais': 'Brasil'}\n"
          ],
          "name": "stdout"
        }
      ]
    },
    {
      "cell_type": "markdown",
      "metadata": {
        "id": "hn6CZMqAQfGq",
        "colab_type": "text"
      },
      "source": [
        "**Set - exemplos **"
      ]
    },
    {
      "cell_type": "code",
      "metadata": {
        "id": "nzW3iQauQhB5",
        "colab_type": "code",
        "colab": {
          "base_uri": "https://localhost:8080/",
          "height": 34
        },
        "outputId": "e5e10164-de25-4b49-95d3-4160720194be"
      },
      "source": [
        "# Declarando um conjunto\n",
        "conjunto = set('abcde')\n",
        "print(conjunto)"
      ],
      "execution_count": 37,
      "outputs": [
        {
          "output_type": "stream",
          "text": [
            "{'a', 'd', 'b', 'c', 'e'}\n"
          ],
          "name": "stdout"
        }
      ]
    },
    {
      "cell_type": "code",
      "metadata": {
        "id": "w6L5SQ2RS3Qe",
        "colab_type": "code",
        "colab": {
          "base_uri": "https://localhost:8080/",
          "height": 52
        },
        "outputId": "70d97863-f87b-46d5-d8ab-47b944d69192"
      },
      "source": [
        "# Adicionando itens ao conjunto\n",
        "conjunto.add('m')\n",
        "print(conjunto)\n",
        "\n",
        "conjunto.add('m')\n",
        "conjunto.add('m')\n",
        "conjunto.add('m')\n",
        "print(conjunto)"
      ],
      "execution_count": 38,
      "outputs": [
        {
          "output_type": "stream",
          "text": [
            "{'a', 'd', 'b', 'm', 'c', 'e'}\n",
            "{'a', 'd', 'b', 'm', 'c', 'e'}\n"
          ],
          "name": "stdout"
        }
      ]
    },
    {
      "cell_type": "code",
      "metadata": {
        "id": "LyOb3IrTTHxm",
        "colab_type": "code",
        "colab": {
          "base_uri": "https://localhost:8080/",
          "height": 70
        },
        "outputId": "954f3fd1-10b6-4a9e-c64f-c559ab8fb31f"
      },
      "source": [
        "# Removendo um item do conjunto\n",
        "conjunto.remove('m')\n",
        "print(conjunto)\n",
        "\n",
        "item_excluido = conjunto.pop()\n",
        "print('Item excluído:', item_excluido)\n",
        "\n",
        "print(conjunto)"
      ],
      "execution_count": 39,
      "outputs": [
        {
          "output_type": "stream",
          "text": [
            "{'a', 'd', 'b', 'c', 'e'}\n",
            "Item excluído: a\n",
            "{'d', 'b', 'c', 'e'}\n"
          ],
          "name": "stdout"
        }
      ]
    },
    {
      "cell_type": "code",
      "metadata": {
        "id": "GndKNKo7Tl12",
        "colab_type": "code",
        "colab": {
          "base_uri": "https://localhost:8080/",
          "height": 52
        },
        "outputId": "dd2b064a-79fe-48d6-8012-4ed754a90cba"
      },
      "source": [
        "# Verificando se um item pode ser incluído no conjunto\n",
        "c_pode = conjunto.isdisjoint('c')\n",
        "print('c pode ?', c_pode)\n",
        "\n",
        "m_pode = conjunto.isdisjoint('m')\n",
        "print('m pode ?', m_pode)"
      ],
      "execution_count": 40,
      "outputs": [
        {
          "output_type": "stream",
          "text": [
            "c pode ? False\n",
            "m pode ? True\n"
          ],
          "name": "stdout"
        }
      ]
    },
    {
      "cell_type": "markdown",
      "metadata": {
        "id": "NFjbb5T9YWJN",
        "colab_type": "text"
      },
      "source": [
        "**For in, range - exemplos **"
      ]
    },
    {
      "cell_type": "code",
      "metadata": {
        "id": "aSr4VFdcTPsH",
        "colab_type": "code",
        "colab": {
          "base_uri": "https://localhost:8080/",
          "height": 87
        },
        "outputId": "46c02daa-58e7-4f44-cd68-01efe7f24cf7"
      },
      "source": [
        "# Declarando e percorrendo uma lista\n",
        "lista = ['a', 'b', 'c', 'd']\n",
        "for letra in lista:\n",
        "  print('letra:', letra)"
      ],
      "execution_count": 41,
      "outputs": [
        {
          "output_type": "stream",
          "text": [
            "letra: a\n",
            "letra: b\n",
            "letra: c\n",
            "letra: d\n"
          ],
          "name": "stdout"
        }
      ]
    },
    {
      "cell_type": "code",
      "metadata": {
        "id": "T2A7x8-MWo83",
        "colab_type": "code",
        "colab": {
          "base_uri": "https://localhost:8080/",
          "height": 298
        },
        "outputId": "52ab5a7d-7f09-4db4-f185-0eaaa6ebe204"
      },
      "source": [
        "# Navegando por uma sequencia numérica\n",
        "# range(start, stop, step)\n",
        "for numero in range(0, 10):\n",
        "  print('numero:', numero)\n",
        "\n",
        "print('imprimindo os pares')\n",
        "for numero in range(0, 10, 2):\n",
        "  print('numero:', numero)\n"
      ],
      "execution_count": 42,
      "outputs": [
        {
          "output_type": "stream",
          "text": [
            "numero: 0\n",
            "numero: 1\n",
            "numero: 2\n",
            "numero: 3\n",
            "numero: 4\n",
            "numero: 5\n",
            "numero: 6\n",
            "numero: 7\n",
            "numero: 8\n",
            "numero: 9\n",
            "imprimindo os pares\n",
            "numero: 0\n",
            "numero: 2\n",
            "numero: 4\n",
            "numero: 6\n",
            "numero: 8\n"
          ],
          "name": "stdout"
        }
      ]
    },
    {
      "cell_type": "code",
      "metadata": {
        "id": "jkSHHY0oXRvg",
        "colab_type": "code",
        "colab": {
          "base_uri": "https://localhost:8080/",
          "height": 52
        },
        "outputId": "1ad8fc15-d9b5-4144-82b6-fd40d4789e57"
      },
      "source": [
        "# Declarando um dicionário\n",
        "dicionario = {'treinamento': 'Summer School', 'ano': 2020}\n",
        "for chave, valor in dicionario.items():\n",
        "  print(chave,'-',valor)"
      ],
      "execution_count": 43,
      "outputs": [
        {
          "output_type": "stream",
          "text": [
            "treinamento - Summer School\n",
            "ano - 2020\n"
          ],
          "name": "stdout"
        }
      ]
    },
    {
      "cell_type": "code",
      "metadata": {
        "id": "5vjsA7RhXn6I",
        "colab_type": "code",
        "colab": {
          "base_uri": "https://localhost:8080/",
          "height": 122
        },
        "outputId": "d71e02ca-bd2a-4108-f152-3346fb97d79b"
      },
      "source": [
        "# Declarando uma tupla\n",
        "tupla = ('a', 'b', 'c', 'd')\n",
        "\n",
        "# Mostrando os dois primeiros itens\n",
        "for letra in tupla[:2]:\n",
        "  print('letra:',letra)\n",
        "\n",
        "print('\\n')\n",
        "\n",
        "# Mostrando os dois últimos itens\n",
        "for letra in tupla[2:]:\n",
        "  print('letra:', letra)"
      ],
      "execution_count": 44,
      "outputs": [
        {
          "output_type": "stream",
          "text": [
            "letra: a\n",
            "letra: b\n",
            "\n",
            "\n",
            "letra: c\n",
            "letra: d\n"
          ],
          "name": "stdout"
        }
      ]
    },
    {
      "cell_type": "code",
      "metadata": {
        "id": "I1sOcKMzJkZc",
        "colab_type": "code",
        "colab": {
          "base_uri": "https://localhost:8080/",
          "height": 52
        },
        "outputId": "5d79d7ce-99fc-491f-ca44-804137bd7f52"
      },
      "source": [
        "# Criando uma lista\n",
        "lista_a = [1, 2, 3]\n",
        "\n",
        "# Criando outra lista somando 5 a cada elemento\n",
        "lista_a_mais_5 = [item_a + 5 for item_a in lista_a]\n",
        "\n",
        "print('Resultado: ',lista_a_mais_5)\n",
        "\n",
        "# Criando outra lista verificando se o item é maior que 1\n",
        "lista_a_item_maior_que_1 = [item_a for item_a in lista_a if item_a > 1]\n",
        "\n",
        "print('Resultado: ',lista_a_item_maior_que_1)"
      ],
      "execution_count": 45,
      "outputs": [
        {
          "output_type": "stream",
          "text": [
            "Resultado:  [6, 7, 8]\n",
            "Resultado:  [2, 3]\n"
          ],
          "name": "stdout"
        }
      ]
    },
    {
      "cell_type": "markdown",
      "metadata": {
        "id": "flOe50UFYc2Z",
        "colab_type": "text"
      },
      "source": [
        "**len, zip - exemplos **"
      ]
    },
    {
      "cell_type": "code",
      "metadata": {
        "id": "Lk_jpswXYbum",
        "colab_type": "code",
        "colab": {
          "base_uri": "https://localhost:8080/",
          "height": 122
        },
        "outputId": "fa46cee7-aba9-4a35-d3bc-e7bbd34c1cb1"
      },
      "source": [
        "# Unindo dois objetos\n",
        "lista_a = [1, 2, 3]\n",
        "tupla_b = ('Summer', 'School', '2018')\n",
        "\n",
        "uniao = zip(lista_a, tupla_b)\n",
        "print(uniao)\n",
        "\n",
        "for a,b in uniao:\n",
        "  print(a, '>', b)\n",
        "  \n",
        "# Verificando o tamanho de um objeto\n",
        "tamanho = len(lista_a)\n",
        "print('tamanho lista A:', tamanho)\n",
        "\n",
        "tamanho = len(tupla_b)\n",
        "print('tamanho tupla B:', tamanho)"
      ],
      "execution_count": 46,
      "outputs": [
        {
          "output_type": "stream",
          "text": [
            "<zip object at 0x7f08ffba1d08>\n",
            "1 > Summer\n",
            "2 > School\n",
            "3 > 2018\n",
            "tamanho lista A: 3\n",
            "tamanho tupla B: 3\n"
          ],
          "name": "stdout"
        }
      ]
    },
    {
      "cell_type": "markdown",
      "metadata": {
        "id": "seXvjCo7Z2U8",
        "colab_type": "text"
      },
      "source": [
        "**Matriz**\n",
        "\n",
        "$\\begin{bmatrix}\n",
        "  1 & 2 & 3 \\\\\n",
        "  4 & 5 & 6 \\\\\n",
        "  7 & 8 & 9 \\\\\n",
        "\\end{bmatrix}$"
      ]
    },
    {
      "cell_type": "code",
      "metadata": {
        "id": "G7KsgO9FaHZ1",
        "colab_type": "code",
        "colab": {
          "base_uri": "https://localhost:8080/",
          "height": 34
        },
        "outputId": "6e7a4f1d-8ebb-43cb-aa62-232c04aefaba"
      },
      "source": [
        "# Declarando uma matriz\n",
        "matriz = [[1,2,3],[4,5,6],[7,8,9]]\n",
        "print(matriz)"
      ],
      "execution_count": 47,
      "outputs": [
        {
          "output_type": "stream",
          "text": [
            "[[1, 2, 3], [4, 5, 6], [7, 8, 9]]\n"
          ],
          "name": "stdout"
        }
      ]
    },
    {
      "cell_type": "code",
      "metadata": {
        "id": "D7izKcdtaSAi",
        "colab_type": "code",
        "colab": {
          "base_uri": "https://localhost:8080/",
          "height": 87
        },
        "outputId": "7bb02b0c-bd28-4596-9a87-b12643e6aaa1"
      },
      "source": [
        "matriz = [[1,2,3],(4,5,6),{7,8,9}]\n",
        "print(matriz)\n",
        "\n",
        "for objeto in matriz:\n",
        "  print(type(objeto))"
      ],
      "execution_count": 48,
      "outputs": [
        {
          "output_type": "stream",
          "text": [
            "[[1, 2, 3], (4, 5, 6), {8, 9, 7}]\n",
            "<class 'list'>\n",
            "<class 'tuple'>\n",
            "<class 'set'>\n"
          ],
          "name": "stdout"
        }
      ]
    },
    {
      "cell_type": "markdown",
      "metadata": {
        "id": "w2J5uhFXOGd1",
        "colab_type": "text"
      },
      "source": [
        "**Função sem retorno**"
      ]
    },
    {
      "cell_type": "code",
      "metadata": {
        "id": "QP5Mf0ZUOLAd",
        "colab_type": "code",
        "colab": {
          "base_uri": "https://localhost:8080/",
          "height": 34
        },
        "outputId": "a46fad4d-4a99-4156-998d-5fa97022f434"
      },
      "source": [
        "# função sem retorno e sem parâmetros\n",
        "def funcao():\n",
        "  lista = [1, 2, 3]\n",
        "  print('Lista: ', lista)\n",
        "  \n",
        "# Chamando a função\n",
        "funcao()"
      ],
      "execution_count": 49,
      "outputs": [
        {
          "output_type": "stream",
          "text": [
            "Lista:  [1, 2, 3]\n"
          ],
          "name": "stdout"
        }
      ]
    },
    {
      "cell_type": "markdown",
      "metadata": {
        "id": "IAw_dtgeQPB8",
        "colab_type": "text"
      },
      "source": [
        "**Função com parâmetros, parâmetros padrão**"
      ]
    },
    {
      "cell_type": "code",
      "metadata": {
        "id": "vHA5pCkTOtaw",
        "colab_type": "code",
        "colab": {
          "base_uri": "https://localhost:8080/",
          "height": 34
        },
        "outputId": "2bdaa936-8219-420e-f338-3a3859bb0a8c"
      },
      "source": [
        "# função sem retorno e com parâmetro\n",
        "def funcao_com_parametro(valor):\n",
        "  print('O dobro de',valor,'é', valor * 2)\n",
        "\n",
        "# Chamando a função\n",
        "funcao_com_parametro(5)"
      ],
      "execution_count": 50,
      "outputs": [
        {
          "output_type": "stream",
          "text": [
            "O dobro de 5 é 10\n"
          ],
          "name": "stdout"
        }
      ]
    },
    {
      "cell_type": "code",
      "metadata": {
        "id": "plHfcJo4PVoo",
        "colab_type": "code",
        "colab": {
          "base_uri": "https://localhost:8080/",
          "height": 52
        },
        "outputId": "c2c72f54-cf48-4226-acfe-3ecf66412de7"
      },
      "source": [
        "# função sem retorno e com parâmetros padrão\n",
        "def funcao_com_parametro(valor, divisor=5):\n",
        "  print(valor,'dividido por', divisor, 'é', valor / divisor)\n",
        "\n",
        "# Chamando a função\n",
        "funcao_com_parametro(10)\n",
        "funcao_com_parametro(10, 2)"
      ],
      "execution_count": 51,
      "outputs": [
        {
          "output_type": "stream",
          "text": [
            "10 dividido por 5 é 2.0\n",
            "10 dividido por 2 é 5.0\n"
          ],
          "name": "stdout"
        }
      ]
    },
    {
      "cell_type": "markdown",
      "metadata": {
        "id": "fSz4oSeMQW-r",
        "colab_type": "text"
      },
      "source": [
        "**Função com lista de parâmetros**"
      ]
    },
    {
      "cell_type": "code",
      "metadata": {
        "id": "CZjzD7xJQb80",
        "colab_type": "code",
        "colab": {
          "base_uri": "https://localhost:8080/",
          "height": 122
        },
        "outputId": "47c8a647-4fe4-48f5-aec9-5eaed946d39f"
      },
      "source": [
        "# função sem retorno e com lista de parâmetros\n",
        "def funcao_com_lista_parametro(*valores):\n",
        "  for valor in valores:\n",
        "    print('valor:', valor)\n",
        "    \n",
        "  print('Soma dos itens: ', sum(valores))\n",
        "\n",
        "# Chamando a função\n",
        "funcao_com_lista_parametro(1,2,3,4,5)"
      ],
      "execution_count": 52,
      "outputs": [
        {
          "output_type": "stream",
          "text": [
            "valor: 1\n",
            "valor: 2\n",
            "valor: 3\n",
            "valor: 4\n",
            "valor: 5\n",
            "Soma dos itens:  15\n"
          ],
          "name": "stdout"
        }
      ]
    },
    {
      "cell_type": "code",
      "metadata": {
        "id": "WxxrT-N-RCEc",
        "colab_type": "code",
        "colab": {
          "base_uri": "https://localhost:8080/",
          "height": 87
        },
        "outputId": "88f5a376-922c-4997-cf96-0fac968d90cb"
      },
      "source": [
        "# função sem retorno e com lista de parâmetros (chave, valor)\n",
        "def funcao_com_lista_parametro(**kwargs):\n",
        "  for k,v in kwargs.items():\n",
        "    print('chave:', k, '>', v)\n",
        "    \n",
        "\n",
        "# Chamando a função \n",
        "funcao_com_lista_parametro(nome='Marcelo', sobrenome='Piovan')\n",
        "\n",
        "# Chamando a função com dictionary\n",
        "dicionario = {'treinamento': 'Summer School', 'ano': 2018}\n",
        "funcao_com_lista_parametro(**dicionario)\n"
      ],
      "execution_count": 53,
      "outputs": [
        {
          "output_type": "stream",
          "text": [
            "chave: nome > Marcelo\n",
            "chave: sobrenome > Piovan\n",
            "chave: treinamento > Summer School\n",
            "chave: ano > 2018\n"
          ],
          "name": "stdout"
        }
      ]
    },
    {
      "cell_type": "markdown",
      "metadata": {
        "id": "a__Ud4r9SZgg",
        "colab_type": "text"
      },
      "source": [
        "**Função com retorno simples**"
      ]
    },
    {
      "cell_type": "code",
      "metadata": {
        "id": "MzyFbDZaSc1o",
        "colab_type": "code",
        "colab": {
          "base_uri": "https://localhost:8080/",
          "height": 34
        },
        "outputId": "004fb8f1-b82e-4d74-d9df-cc5c15ef2c93"
      },
      "source": [
        "# função com retorno e com parâmetro\n",
        "def funcao_com_parametro(valor):\n",
        "  return valor * 2\n",
        "\n",
        "\n",
        "# Chamando a função\n",
        "dobro = funcao_com_parametro(5)\n",
        "print('Dobro:', dobro)\n"
      ],
      "execution_count": 54,
      "outputs": [
        {
          "output_type": "stream",
          "text": [
            "Dobro: 10\n"
          ],
          "name": "stdout"
        }
      ]
    },
    {
      "cell_type": "markdown",
      "metadata": {
        "id": "sjX3m8zVUqDa",
        "colab_type": "text"
      },
      "source": [
        "**Função com retorno de uma lista de valores**"
      ]
    },
    {
      "cell_type": "code",
      "metadata": {
        "id": "nOkxxrMWU2MD",
        "colab_type": "code",
        "colab": {
          "base_uri": "https://localhost:8080/",
          "height": 34
        },
        "outputId": "5aed9e03-ec9b-4554-e733-e6b5af7d37dd"
      },
      "source": [
        "# função com retorno e com parâmetro\n",
        "def funcao_com_parametro(valor):\n",
        "  resultado = valor * 2\n",
        "  return valor, resultado\n",
        "\n",
        "\n",
        "# Chamando a função\n",
        "valor, dobro = funcao_com_parametro(5)\n",
        "print('O dobro de',valor, 'é', dobro)"
      ],
      "execution_count": 55,
      "outputs": [
        {
          "output_type": "stream",
          "text": [
            "O dobro de 5 é 10\n"
          ],
          "name": "stdout"
        }
      ]
    },
    {
      "cell_type": "markdown",
      "metadata": {
        "id": "SXGBBMy6EyA-",
        "colab_type": "text"
      },
      "source": [
        "**Função lambda**"
      ]
    },
    {
      "cell_type": "code",
      "metadata": {
        "id": "Suic6ctpE0-L",
        "colab_type": "code",
        "colab": {
          "base_uri": "https://localhost:8080/",
          "height": 52
        },
        "outputId": "22048361-74a7-495a-d010-2e11b0e05ce9"
      },
      "source": [
        "# função lambda que multiplica um valor a por outro b\n",
        "minha_funcao = lambda a, b : a * b\n",
        "\n",
        "# Chamando a função Lambda\n",
        "resultado = minha_funcao(3,5)\n",
        "print('Resultado:',resultado)\n",
        "\n",
        "\n",
        "\n",
        "# função similar\n",
        "def funcao_similar(a, b):\n",
        "  return a * b\n",
        "\n",
        "# Chamando a função\n",
        "resultado = funcao_similar(3,5)\n",
        "print('Resultado:',resultado)\n"
      ],
      "execution_count": 56,
      "outputs": [
        {
          "output_type": "stream",
          "text": [
            "Resultado: 15\n",
            "Resultado: 15\n"
          ],
          "name": "stdout"
        }
      ]
    },
    {
      "cell_type": "code",
      "metadata": {
        "id": "h44fdN6RF9S5",
        "colab_type": "code",
        "colab": {
          "base_uri": "https://localhost:8080/",
          "height": 34
        },
        "outputId": "db8cd429-c446-41cf-8e9a-c29c326cfbe0"
      },
      "source": [
        "# criando uma \"api\" com lambda\n",
        "api = {'somar': lambda x, y : x + y,\n",
        "       'subtrair': lambda x, y : x - y,\n",
        "       'multiplicar': lambda x, y : x * y,\n",
        "       'dividir': lambda x, y : x / y}\n",
        "\n",
        "resultado = api['somar'](1,5) + api['multiplicar'](2,2) + api['subtrair'](4,2) + api['dividir'](12,3)\n",
        "print('Resultado:',resultado)"
      ],
      "execution_count": 57,
      "outputs": [
        {
          "output_type": "stream",
          "text": [
            "Resultado: 16.0\n"
          ],
          "name": "stdout"
        }
      ]
    },
    {
      "cell_type": "markdown",
      "metadata": {
        "id": "Mm5VeBJFHqmE",
        "colab_type": "text"
      },
      "source": [
        "**Percorrendo arrays com map**"
      ]
    },
    {
      "cell_type": "code",
      "metadata": {
        "id": "kRO7-D23IAtA",
        "colab_type": "code",
        "colab": {
          "base_uri": "https://localhost:8080/",
          "height": 34
        },
        "outputId": "de211d29-07c3-42d8-b8c3-96ac943b063d"
      },
      "source": [
        "# Objeto iterável\n",
        "array_a = [1,4,8,9,12,21,24,7,41,4,20]\n",
        "\n",
        "# funcão para o map\n",
        "def funcao_validar(x):\n",
        "  if x > 10:\n",
        "    return True\n",
        "  return False\n",
        "\n",
        "resultado_map = map(funcao_validar,array_a)\n",
        "resultado_list = list(resultado_map)\n",
        "print(resultado_list)\n"
      ],
      "execution_count": 58,
      "outputs": [
        {
          "output_type": "stream",
          "text": [
            "[False, False, False, False, True, True, True, False, True, False, True]\n"
          ],
          "name": "stdout"
        }
      ]
    },
    {
      "cell_type": "code",
      "metadata": {
        "id": "ssunxjaoJAHF",
        "colab_type": "code",
        "colab": {
          "base_uri": "https://localhost:8080/",
          "height": 34
        },
        "outputId": "841ee7a3-66e2-4775-e5fd-6570a0a3b8dd"
      },
      "source": [
        "# map com lambda\n",
        "resultado_map = map(lambda x: x > 10,array_a)\n",
        "resultado_list = list(resultado_map)\n",
        "\n",
        "print(resultado_list)"
      ],
      "execution_count": 60,
      "outputs": [
        {
          "output_type": "stream",
          "text": [
            "[False, False, False, False, True, True, True, False, True, False, True]\n"
          ],
          "name": "stdout"
        }
      ]
    },
    {
      "cell_type": "code",
      "metadata": {
        "id": "tU_bC0xKyCE2",
        "colab_type": "code",
        "colab": {}
      },
      "source": [
        ""
      ],
      "execution_count": null,
      "outputs": []
    }
  ]
}